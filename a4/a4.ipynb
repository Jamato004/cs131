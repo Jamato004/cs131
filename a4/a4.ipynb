{
  "cells": [
    {
      "cell_type": "code",
      "execution_count": 1,
      "metadata": {
        "id": "ZfTZqsQa4oI3"
      },
      "outputs": [],
      "source": [
        "from pyspark.sql import SparkSession\n",
        "\n",
        "spark = SparkSession.builder.appName(\"CS131-A4\").getOrCreate()"
      ]
    },
    {
      "cell_type": "code",
      "execution_count": 2,
      "metadata": {
        "colab": {
          "base_uri": "https://localhost:8080/"
        },
        "id": "0WZ35ePYAF7Y",
        "outputId": "5c295c59-032c-4057-cc9b-910821c2be5b"
      },
      "outputs": [
        {
          "output_type": "stream",
          "name": "stdout",
          "text": [
            "+---------------+------------+------------+------------+\n",
            "|passenger_count|PULocationID|DOLocationID|total_amount|\n",
            "+---------------+------------+------------+------------+\n",
            "|            1.0|       239.0|       239.0|         8.8|\n",
            "|            1.0|       230.0|       100.0|         8.3|\n",
            "|            1.0|        68.0|       127.0|       47.75|\n",
            "|            1.0|        68.0|        68.0|         7.3|\n",
            "|            1.0|        50.0|        42.0|       23.15|\n",
            "|            1.0|        95.0|       196.0|         9.8|\n",
            "|            1.0|       211.0|       211.0|         6.8|\n",
            "|            1.0|       237.0|       162.0|         7.8|\n",
            "|            1.0|       148.0|        37.0|        20.3|\n",
            "|            1.0|       265.0|       265.0|        0.31|\n",
            "+---------------+------------+------------+------------+\n",
            "only showing top 10 rows\n",
            "\n"
          ]
        }
      ],
      "source": [
        "df = spark.read.csv(\"2019-04.csv\", header=True, inferSchema=True)\n",
        "\n",
        "selected = df.select(\"passenger_count\", \"PULocationID\", \"DOLocationID\", \"total_amount\")\n",
        "selected.show(10)\n"
      ]
    },
    {
      "cell_type": "code",
      "execution_count": 3,
      "metadata": {
        "id": "x310sFtrAGzv"
      },
      "outputs": [],
      "source": [
        "trainDF, testDF = selected.randomSplit([0.8, 0.2], seed=42)\n"
      ]
    },
    {
      "cell_type": "code",
      "execution_count": 4,
      "metadata": {
        "id": "qJ7I3L1nAIGl"
      },
      "outputs": [],
      "source": [
        "from pyspark.ml.feature import VectorAssembler\n",
        "from pyspark.ml.regression import DecisionTreeRegressor\n",
        "\n",
        "assembler = VectorAssembler(\n",
        "    inputCols=[\"passenger_count\", \"PULocationID\", \"DOLocationID\"],\n",
        "    outputCol=\"features\"\n",
        ")\n",
        "\n",
        "dt = DecisionTreeRegressor(featuresCol=\"features\", labelCol=\"total_amount\")\n"
      ]
    },
    {
      "cell_type": "code",
      "execution_count": 5,
      "metadata": {
        "id": "2hn5j_V5AJQ6"
      },
      "outputs": [],
      "source": [
        "from pyspark.ml import Pipeline\n",
        "\n",
        "pipeline = Pipeline(stages=[assembler, dt])\n"
      ]
    },
    {
      "cell_type": "code",
      "execution_count": 6,
      "metadata": {
        "id": "vDj9X2UiAKoS"
      },
      "outputs": [],
      "source": [
        "model = pipeline.fit(trainDF)\n"
      ]
    },
    {
      "cell_type": "code",
      "execution_count": 7,
      "metadata": {
        "id": "q2jtx52XALoo",
        "colab": {
          "base_uri": "https://localhost:8080/"
        },
        "outputId": "40627556-a786-48e2-ddd6-069637eae6c0"
      },
      "outputs": [
        {
          "output_type": "stream",
          "name": "stdout",
          "text": [
            "+---------------+------------+------------+------------------+\n",
            "|passenger_count|PULocationID|DOLocationID|        prediction|\n",
            "+---------------+------------+------------+------------------+\n",
            "|            0.0|         1.0|         1.0| 21.68896365105007|\n",
            "|            0.0|         4.0|         4.0| 21.68896365105007|\n",
            "|            0.0|         4.0|         4.0| 21.68896365105007|\n",
            "|            0.0|         4.0|        79.0|15.656092574632462|\n",
            "|            0.0|         4.0|        88.0|15.656092574632462|\n",
            "|            0.0|         4.0|       114.0|15.656092574632462|\n",
            "|            0.0|         4.0|       186.0|18.008749650250703|\n",
            "|            0.0|         4.0|       257.0|18.008749650250703|\n",
            "|            0.0|         7.0|       146.0|18.008749650250703|\n",
            "|            0.0|         7.0|       146.0|18.008749650250703|\n",
            "+---------------+------------+------------+------------------+\n",
            "only showing top 10 rows\n",
            "\n"
          ]
        }
      ],
      "source": [
        "predictions = model.transform(testDF)\n",
        "predictions.select(\"passenger_count\", \"PULocationID\", \"DOLocationID\", \"prediction\").show(10)\n"
      ]
    },
    {
      "cell_type": "code",
      "execution_count": 8,
      "metadata": {
        "id": "yk6O3B6RAO3x",
        "colab": {
          "base_uri": "https://localhost:8080/"
        },
        "outputId": "c701328f-46be-46a5-d588-0ebde2148792"
      },
      "outputs": [
        {
          "output_type": "stream",
          "name": "stdout",
          "text": [
            "Root Mean Squared Error (RMSE): 14.49745985168342\n"
          ]
        }
      ],
      "source": [
        "from pyspark.ml.evaluation import RegressionEvaluator\n",
        "\n",
        "evaluator = RegressionEvaluator(\n",
        "    labelCol=\"total_amount\",\n",
        "    predictionCol=\"prediction\",\n",
        "    metricName=\"rmse\"\n",
        ")\n",
        "\n",
        "rmse = evaluator.evaluate(predictions)\n",
        "print(f\"Root Mean Squared Error (RMSE): {rmse}\")\n"
      ]
    }
  ],
  "metadata": {
    "colab": {
      "provenance": []
    },
    "kernelspec": {
      "display_name": "Python 3",
      "name": "python3"
    },
    "language_info": {
      "name": "python"
    }
  },
  "nbformat": 4,
  "nbformat_minor": 0
}