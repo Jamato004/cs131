{
  "nbformat": 4,
  "nbformat_minor": 0,
  "metadata": {
    "colab": {
      "provenance": []
    },
    "kernelspec": {
      "name": "python3",
      "display_name": "Python 3"
    },
    "language_info": {
      "name": "python"
    }
  },
  "cells": [
    {
      "cell_type": "code",
      "execution_count": 23,
      "metadata": {
        "id": "ZfTZqsQa4oI3"
      },
      "outputs": [],
      "source": [
        "from pyspark.sql import SparkSession\n",
        "\n",
        "spark = SparkSession.builder.appName(\"CS131-A4\").getOrCreate()"
      ]
    },
    {
      "cell_type": "code",
      "source": [
        "df = spark.read.csv(\"2019-04.csv\", header=True, inferSchema=True)\n",
        "\n",
        "selected = df.select(\"passenger_count\", \"PULocationID\", \"DOLocationID\", \"total_amount\")\n",
        "selected.show(10)\n"
      ],
      "metadata": {
        "colab": {
          "base_uri": "https://localhost:8080/"
        },
        "id": "0WZ35ePYAF7Y",
        "outputId": "142c58c2-2e6c-412b-dda9-6a3d337445b0"
      },
      "execution_count": 24,
      "outputs": [
        {
          "output_type": "stream",
          "name": "stdout",
          "text": [
            "+---------------+------------+------------+------------+\n",
            "|passenger_count|PULocationID|DOLocationID|total_amount|\n",
            "+---------------+------------+------------+------------+\n",
            "|            1.0|       239.0|       239.0|         8.8|\n",
            "|            1.0|       230.0|       100.0|         8.3|\n",
            "|            1.0|        68.0|       127.0|       47.75|\n",
            "|            1.0|        68.0|        68.0|         7.3|\n",
            "|            1.0|        50.0|        42.0|       23.15|\n",
            "|            1.0|        95.0|       196.0|         9.8|\n",
            "|            1.0|       211.0|       211.0|         6.8|\n",
            "|            1.0|       237.0|       162.0|         7.8|\n",
            "|            1.0|       148.0|        37.0|        20.3|\n",
            "|            1.0|       265.0|       265.0|        0.31|\n",
            "+---------------+------------+------------+------------+\n",
            "only showing top 10 rows\n",
            "\n"
          ]
        }
      ]
    },
    {
      "cell_type": "code",
      "source": [
        "trainDF, testDF = selected.randomSplit([0.8, 0.2], seed=42)\n"
      ],
      "metadata": {
        "id": "x310sFtrAGzv"
      },
      "execution_count": 25,
      "outputs": []
    },
    {
      "cell_type": "code",
      "source": [
        "from pyspark.ml.feature import VectorAssembler\n",
        "from pyspark.ml.regression import DecisionTreeRegressor\n",
        "\n",
        "assembler = VectorAssembler(\n",
        "    inputCols=[\"passenger_count\", \"PULocationID\", \"DOLocationID\"],\n",
        "    outputCol=\"features\"\n",
        ")\n",
        "\n",
        "dt = DecisionTreeRegressor(featuresCol=\"features\", labelCol=\"total_amount\")\n"
      ],
      "metadata": {
        "id": "qJ7I3L1nAIGl"
      },
      "execution_count": 26,
      "outputs": []
    },
    {
      "cell_type": "code",
      "source": [
        "from pyspark.ml import Pipeline\n",
        "\n",
        "pipeline = Pipeline(stages=[assembler, dt])\n"
      ],
      "metadata": {
        "id": "2hn5j_V5AJQ6"
      },
      "execution_count": 27,
      "outputs": []
    },
    {
      "cell_type": "code",
      "source": [
        "model = pipeline.fit(trainDF)\n"
      ],
      "metadata": {
        "id": "vDj9X2UiAKoS"
      },
      "execution_count": 28,
      "outputs": []
    },
    {
      "cell_type": "code",
      "source": [
        "predictions = model.transform(testDF)\n",
        "predictions.select(\"passenger_count\", \"PULocationID\", \"DOLocationID\", \"prediction\").show(10)\n"
      ],
      "metadata": {
        "id": "q2jtx52XALoo",
        "colab": {
          "base_uri": "https://localhost:8080/"
        },
        "outputId": "e22a809f-5e2e-4e33-fa47-4d330a94ea5a"
      },
      "execution_count": 29,
      "outputs": [
        {
          "output_type": "stream",
          "name": "stdout",
          "text": [
            "+---------------+------------+------------+------------------+\n",
            "|passenger_count|PULocationID|DOLocationID|        prediction|\n",
            "+---------------+------------+------------+------------------+\n",
            "|            0.0|         1.0|         1.0|28.106986538568773|\n",
            "|            0.0|         4.0|         4.0|28.106986538568773|\n",
            "|            0.0|         4.0|         4.0|28.106986538568773|\n",
            "|            0.0|         4.0|        79.0|15.815718693036482|\n",
            "|            0.0|         4.0|        88.0|15.815718693036482|\n",
            "|            0.0|         4.0|       114.0|15.815718693036482|\n",
            "|            0.0|         4.0|       186.0| 17.81172413073233|\n",
            "|            0.0|         4.0|       257.0|20.568217746532415|\n",
            "|            0.0|         7.0|       146.0| 17.81172413073233|\n",
            "|            0.0|         7.0|       146.0| 17.81172413073233|\n",
            "+---------------+------------+------------+------------------+\n",
            "only showing top 10 rows\n",
            "\n"
          ]
        }
      ]
    },
    {
      "cell_type": "code",
      "source": [
        "from pyspark.ml.evaluation import RegressionEvaluator\n",
        "\n",
        "evaluator = RegressionEvaluator(\n",
        "    labelCol=\"total_amount\",\n",
        "    predictionCol=\"prediction\",\n",
        "    metricName=\"rmse\"\n",
        ")\n",
        "\n",
        "rmse = evaluator.evaluate(predictions)\n",
        "print(f\"Root Mean Squared Error (RMSE): {rmse}\")\n"
      ],
      "metadata": {
        "id": "yk6O3B6RAO3x",
        "colab": {
          "base_uri": "https://localhost:8080/"
        },
        "outputId": "4f08d540-fa3c-4221-e7ad-eef5bf6aefd0"
      },
      "execution_count": 30,
      "outputs": [
        {
          "output_type": "stream",
          "name": "stdout",
          "text": [
            "Root Mean Squared Error (RMSE): 14.789664628923944\n"
          ]
        }
      ]
    }
  ]
}